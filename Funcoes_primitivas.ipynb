{
 "cells": [
  {
   "cell_type": "code",
   "execution_count": 10,
   "metadata": {
    "colab": {
     "base_uri": "https://localhost:8080/"
    },
    "executionInfo": {
     "elapsed": 7087,
     "status": "ok",
     "timestamp": 1707661614034,
     "user": {
      "displayName": "Felipe Cantalice",
      "userId": "00172509150092981243"
     },
     "user_tz": 240
    },
    "id": "ReFJINxhizPx",
    "outputId": "cb68c6ec-f61e-46f9-c19a-38b1868f4413"
   },
   "outputs": [
    {
     "name": "stdout",
     "output_type": "stream",
     "text": [
      "Requirement already satisfied: sympy in /usr/local/lib/python3.10/dist-packages (1.12)\n",
      "Requirement already satisfied: mpmath>=0.19 in /usr/local/lib/python3.10/dist-packages (from sympy) (1.3.0)\n"
     ]
    }
   ],
   "source": [
    "!pip install sympy\n",
    "\n",
    "from sympy import *\n",
    "\n",
    "init_printing(pretty_print=True)"
   ]
  },
  {
   "cell_type": "code",
   "execution_count": 11,
   "metadata": {
    "executionInfo": {
     "elapsed": 356,
     "status": "ok",
     "timestamp": 1707661632475,
     "user": {
      "displayName": "Felipe Cantalice",
      "userId": "00172509150092981243"
     },
     "user_tz": 240
    },
    "id": "LvE70qkRjeK6"
   },
   "outputs": [],
   "source": [
    "x = Symbol('x')"
   ]
  },
  {
   "cell_type": "code",
   "execution_count": 19,
   "metadata": {
    "colab": {
     "base_uri": "https://localhost:8080/",
     "height": 58
    },
    "executionInfo": {
     "elapsed": 329,
     "status": "ok",
     "timestamp": 1707661936720,
     "user": {
      "displayName": "Felipe Cantalice",
      "userId": "00172509150092981243"
     },
     "user_tz": 240
    },
    "id": "13tkx-1fkKCk",
    "outputId": "86e7eb27-1c16-443c-c4a7-3b1f20f6cfbf"
   },
   "outputs": [
    {
     "data": {
      "text/latex": [
       "$\\displaystyle \\left( x^{2}, \\  \\frac{x^{3}}{3}\\right)$"
      ],
      "text/plain": [
       "⎛     3⎞\n",
       "⎜ 2  x ⎟\n",
       "⎜x , ──⎟\n",
       "⎝    3 ⎠"
      ]
     },
     "execution_count": 19,
     "metadata": {},
     "output_type": "execute_result"
    }
   ],
   "source": [
    "f = x**2\n",
    "F = (x**3)/3\n",
    "f, F"
   ]
  },
  {
   "cell_type": "code",
   "execution_count": 21,
   "metadata": {
    "colab": {
     "base_uri": "https://localhost:8080/",
     "height": 38
    },
    "executionInfo": {
     "elapsed": 373,
     "status": "ok",
     "timestamp": 1707661959951,
     "user": {
      "displayName": "Felipe Cantalice",
      "userId": "00172509150092981243"
     },
     "user_tz": 240
    },
    "id": "AtdbsepjkNV9",
    "outputId": "74ec8280-2ec9-4fca-fd63-ef6b35af1ab1"
   },
   "outputs": [
    {
     "data": {
      "text/latex": [
       "$\\displaystyle \\left( x^{2}, \\  x^{2}\\right)$"
      ],
      "text/plain": [
       "⎛ 2   2⎞\n",
       "⎝x , x ⎠"
      ]
     },
     "execution_count": 21,
     "metadata": {},
     "output_type": "execute_result"
    }
   ],
   "source": [
    "F_prime = F.diff()\n",
    "f, F_prime"
   ]
  },
  {
   "cell_type": "code",
   "execution_count": 16,
   "metadata": {
    "colab": {
     "base_uri": "https://localhost:8080/",
     "height": 38
    },
    "executionInfo": {
     "elapsed": 494,
     "status": "ok",
     "timestamp": 1707661684898,
     "user": {
      "displayName": "Felipe Cantalice",
      "userId": "00172509150092981243"
     },
     "user_tz": 240
    },
    "id": "pV4Jn_2qkTLx",
    "outputId": "efd33428-8584-419a-a691-da9d3b44f9b3"
   },
   "outputs": [
    {
     "data": {
      "text/latex": [
       "$\\displaystyle x^{2}$"
      ],
      "text/plain": [
       " 2\n",
       "x "
      ]
     },
     "execution_count": 16,
     "metadata": {},
     "output_type": "execute_result"
    }
   ],
   "source": [
    "func2.diff()"
   ]
  },
  {
   "cell_type": "code",
   "execution_count": 22,
   "metadata": {
    "colab": {
     "base_uri": "https://localhost:8080/",
     "height": 54
    },
    "executionInfo": {
     "elapsed": 445,
     "status": "ok",
     "timestamp": 1707662056213,
     "user": {
      "displayName": "Felipe Cantalice",
      "userId": "00172509150092981243"
     },
     "user_tz": 240
    },
    "id": "KyKpiZUvkWz5",
    "outputId": "f5ad51dd-7122-4fab-d8ec-2f232bc1cffb"
   },
   "outputs": [
    {
     "data": {
      "text/latex": [
       "$\\displaystyle \\frac{x^{3}}{3}$"
      ],
      "text/plain": [
       " 3\n",
       "x \n",
       "──\n",
       "3 "
      ]
     },
     "execution_count": 22,
     "metadata": {},
     "output_type": "execute_result"
    }
   ],
   "source": [
    "integrate(f)"
   ]
  },
  {
   "cell_type": "code",
   "execution_count": null,
   "metadata": {
    "id": "TG2Fc3WwlxUQ"
   },
   "outputs": [],
   "source": []
  },
  {
   "cell_type": "markdown",
   "metadata": {
    "id": "cqlVlkprnCoU"
   },
   "source": [
    "# Antiderivada\n",
    "Dado a funcao primitiva $f(x)=x^2$\n",
    "\n"
   ]
  },
  {
   "cell_type": "code",
   "execution_count": 32,
   "metadata": {
    "colab": {
     "base_uri": "https://localhost:8080/",
     "height": 54
    },
    "executionInfo": {
     "elapsed": 432,
     "status": "ok",
     "timestamp": 1707662763505,
     "user": {
      "displayName": "Felipe Cantalice",
      "userId": "00172509150092981243"
     },
     "user_tz": 240
    },
    "id": "SYg8YHEwnFGo",
    "outputId": "bca77b96-dd74-46a2-8375-6f4b513cb3fc"
   },
   "outputs": [
    {
     "data": {
      "text/latex": [
       "$\\displaystyle \\frac{x^{3}}{3}$"
      ],
      "text/plain": [
       " 3\n",
       "x \n",
       "──\n",
       "3 "
      ]
     },
     "execution_count": 32,
     "metadata": {},
     "output_type": "execute_result"
    }
   ],
   "source": [
    "# sua integral\n",
    "F= f.integrate()\n",
    "F"
   ]
  },
  {
   "cell_type": "code",
   "execution_count": 30,
   "metadata": {
    "colab": {
     "base_uri": "https://localhost:8080/",
     "height": 38
    },
    "executionInfo": {
     "elapsed": 502,
     "status": "ok",
     "timestamp": 1707662755007,
     "user": {
      "displayName": "Felipe Cantalice",
      "userId": "00172509150092981243"
     },
     "user_tz": 240
    },
    "id": "KDcgkAPunXUv",
    "outputId": "88276ca8-bc0f-4ade-9062-60f0174c50a7"
   },
   "outputs": [
    {
     "data": {
      "text/latex": [
       "$\\displaystyle x^{2}$"
      ],
      "text/plain": [
       " 2\n",
       "x "
      ]
     },
     "execution_count": 30,
     "metadata": {},
     "output_type": "execute_result"
    }
   ],
   "source": [
    "# e sua derivaa\n",
    "F.diff()"
   ]
  },
  {
   "cell_type": "markdown",
   "metadata": {
    "id": "dmmbHm6NohuU"
   },
   "source": [
    "ou seja f= F', funcao f e igual a derivada da funcao F"
   ]
  },
  {
   "cell_type": "code",
   "execution_count": null,
   "metadata": {
    "id": "YB9PH60lo138"
   },
   "outputs": [],
   "source": []
  }
 ],
 "metadata": {
  "colab": {
   "authorship_tag": "ABX9TyOStBNjhnNuv8Ndrcv6sUUq",
   "provenance": []
  },
  "kernelspec": {
   "display_name": "Python 3 (ipykernel)",
   "language": "python",
   "name": "python3"
  },
  "language_info": {
   "codemirror_mode": {
    "name": "ipython",
    "version": 3
   },
   "file_extension": ".py",
   "mimetype": "text/x-python",
   "name": "python",
   "nbconvert_exporter": "python",
   "pygments_lexer": "ipython3",
   "version": "3.10.13"
  }
 },
 "nbformat": 4,
 "nbformat_minor": 4
}
