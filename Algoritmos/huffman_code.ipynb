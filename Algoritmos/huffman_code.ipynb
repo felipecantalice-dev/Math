{
 "cells": [
  {
   "cell_type": "markdown",
   "id": "73462b48-2246-42b3-b9a7-0aa3b5a7b6ae",
   "metadata": {},
   "source": [
    "# Codigo Huffman"
   ]
  },
  {
   "cell_type": "code",
   "execution_count": 2,
   "id": "9a6d3cd8-f2f7-4571-9bfc-2624b1f58ea1",
   "metadata": {},
   "outputs": [
    {
     "name": "stdout",
     "output_type": "stream",
     "text": [
      "Symbol    Weight    Huffman Code\n",
      "          13        111\n",
      "e         7         001\n",
      "o         7         010\n",
      "t         9         110\n",
      "a         3         0000\n",
      "f         5         1011\n",
      "h         4         1000\n",
      "r         3         0001\n",
      "g         2         01111\n",
      "i         2         10010\n",
      "l         2         10011\n",
      "n         2         10101\n",
      "w         1         01100\n",
      "T         1         011010\n",
      "b         1         011011\n",
      "c         1         011100\n",
      "d         1         011101\n",
      "m         1         101000\n",
      "s         1         101001\n"
     ]
    }
   ],
   "source": [
    "import heapq\n",
    "from collections import defaultdict\n",
    "\n",
    "\n",
    "def encode(frequency):\n",
    "    heap = [[weight, [symbol, \"\"]] for symbol, weight in frequency.items()]\n",
    "    heapq.heapify(heap)\n",
    "    while len(heap) > 1:\n",
    "        lo = heapq.heappop(heap)\n",
    "        hi = heapq.heappop(heap)\n",
    "        for pair in lo[1:]:\n",
    "            pair[1] = '0' + pair[1]\n",
    "        for pair in hi[1:]:\n",
    "            pair[1] = '1' + pair[1]\n",
    "        heapq.heappush(heap, [lo[0] + hi[0]] + lo[1:] + hi[1:])\n",
    "    return sorted(heapq.heappop(heap)[1:], key=lambda p: (len(p[-1]), p))\n",
    "\n",
    "\n",
    "data = \"The frog at the bottom of the well drifts off into the great ocean\"\n",
    "frequency = defaultdict(int)\n",
    "for symbol in data:\n",
    "    frequency[symbol] += 1\n",
    "\n",
    "\n",
    "huff = encode(frequency)\n",
    "print(\"Symbol\".ljust(10) + \"Weight\".ljust(10) + \"Huffman Code\")\n",
    "for p in huff:\n",
    "    print(p[0].ljust(10) + str(frequency[p[0]]).ljust(10) + p[1])"
   ]
  },
  {
   "cell_type": "code",
   "execution_count": null,
   "id": "e1e2d0ee-aefb-4793-a640-0d70138d00d7",
   "metadata": {},
   "outputs": [],
   "source": []
  }
 ],
 "metadata": {
  "kernelspec": {
   "display_name": "Python 3 (ipykernel)",
   "language": "python",
   "name": "python3"
  },
  "language_info": {
   "codemirror_mode": {
    "name": "ipython",
    "version": 3
   },
   "file_extension": ".py",
   "mimetype": "text/x-python",
   "name": "python",
   "nbconvert_exporter": "python",
   "pygments_lexer": "ipython3",
   "version": "3.10.13"
  }
 },
 "nbformat": 4,
 "nbformat_minor": 5
}
